{
 "cells": [
  {
   "cell_type": "code",
   "execution_count": null,
   "id": "9831cd08",
   "metadata": {},
   "outputs": [],
   "source": [
    "import numpy as np\n",
    "import pandas as pd\n",
    "\n",
    "NUM_EXAMPLE_QUESTIONS = 1\n",
    "example = np.zeros(NUM_EXAMPLE_QUESTIONS,int)\n",
    "\n",
    "NUM_QUESTIONS = 10\n",
    "myanswer = np.zeros(NUM_QUESTIONS,int)"
   ]
  },
  {
   "cell_type": "code",
   "execution_count": null,
   "id": "74ad9538",
   "metadata": {},
   "outputs": [],
   "source": [
    "myanswer[0] = 1\n",
    "myanswer[1] = 4\n",
    "myanswer[2] = 1\n",
    "myanswer[3] = 1\n",
    "myanswer[4] = 4\n",
    "myanswer[5] = 1\n",
    "myanswer[6] = 2\n",
    "myanswer[7] = 2\n",
    "myanswer[8] = 3\n",
    "myanswer[9] = 2"
   ]
  },
  {
   "cell_type": "code",
   "execution_count": null,
   "id": "97721018",
   "metadata": {},
   "outputs": [],
   "source": [
    "if not np.any(myanswer==0):\n",
    "    submission = pd.Series(myanswer, name='label')\n",
    "    submission.to_csv('submission_pred.csv', header=True, index_label='id')\n",
    "    print('submission_pred.csv has been created successfully!')\n",
    "else:\n",
    "    print('Error: please answer all of the questions')"
   ]
  }
 ],
 "metadata": {
  "language_info": {
   "name": "python"
  }
 },
 "nbformat": 4,
 "nbformat_minor": 5
}
