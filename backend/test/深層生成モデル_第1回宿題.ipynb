{
 "cells": [
  {
   "cell_type": "markdown",
   "id": "5a11bb07",
   "metadata": {},
   "source": [
    "# 深層生成モデルスプリングセミナー 第1回宿題"
   ]
  },
  {
   "cell_type": "markdown",
   "id": "ae21a097",
   "metadata": {},
   "source": [
    "## 課題\n",
    "今回の課題は確認クイズです。\n",
    "\n",
    "上から回答していくとcsv提出用csv `submission_pred.csv`が作成されます。\n",
    "提出期限までにomnicampusに提出してください。\n",
    "\n",
    "**採点は締め切り後に一回だけ行われます。**\n",
    "（**即時採点ではありません。**）"
   ]
  },
  {
   "cell_type": "markdown",
   "id": "74485d9d",
   "metadata": {},
   "source": [
    "この部分は修正しないでください"
   ]
  },
  {
   "cell_type": "code",
   "execution_count": null,
   "id": "d3da2f04",
   "metadata": {},
   "outputs": [],
   "source": []
  },
  {
   "cell_type": "code",
   "execution_count": null,
   "id": "4ba12532",
   "metadata": {},
   "outputs": [
    {
     "name": "stdout",
     "output_type": "stream",
     "text": [
      "Requirement already satisfied: numpy in /opt/anaconda3/envs/AI-engineering-final-kadai/lib/python3.13/site-packages (2.2.6)\n",
      "Requirement already satisfied: pandas in /opt/anaconda3/envs/AI-engineering-final-kadai/lib/python3.13/site-packages (2.3.0)\n",
      "Requirement already satisfied: python-dateutil>=2.8.2 in /opt/anaconda3/envs/AI-engineering-final-kadai/lib/python3.13/site-packages (from pandas) (2.9.0.post0)\n",
      "Requirement already satisfied: pytz>=2020.1 in /opt/anaconda3/envs/AI-engineering-final-kadai/lib/python3.13/site-packages (from pandas) (2025.2)\n",
      "Requirement already satisfied: tzdata>=2022.7 in /opt/anaconda3/envs/AI-engineering-final-kadai/lib/python3.13/site-packages (from pandas) (2025.2)\n",
      "Requirement already satisfied: six>=1.5 in /opt/anaconda3/envs/AI-engineering-final-kadai/lib/python3.13/site-packages (from python-dateutil>=2.8.2->pandas) (1.17.0)\n"
     ]
    }
   ],
   "source": []
  },
  {
   "cell_type": "code",
   "execution_count": null,
   "id": "aebd4dd2",
   "metadata": {},
   "outputs": [],
   "source": [
    "import numpy as np\n",
    "import pandas as pd\n",
    "\n",
    "NUM_EXAMPLE_QUESTIONS = 1\n",
    "example = np.zeros(NUM_EXAMPLE_QUESTIONS,int)\n",
    "\n",
    "NUM_QUESTIONS = 10\n",
    "myanswer = np.zeros(NUM_QUESTIONS,int)"
   ]
  },
  {
   "cell_type": "markdown",
   "id": "8dd2eabc",
   "metadata": {},
   "source": [
    "### 回答方法\n",
    "各$\\fbox{　(　)　}$に当てはまるものとして最も適切なものを1つずつ選んでください。\n",
    "\n",
    "**例題**\n",
    "\n",
    "「深層学習/Deep Learning応用講座 – 生成モデル」の講義では$\\fbox{　(0)　}$の技術に関して基礎的なアルゴリズムを幅広く利用可能で最先端の手法も理解し、実装することができることを目的とする。\n",
    "\n",
    "1. 言語モデル\n",
    "2. 生成モデル\n",
    "3. 強化学習\n",
    "4. ビジネスモデル\n",
    "\n",
    "正しい回答を「生成モデル」とすると、以下のように0番目に2を数字で回答します．"
   ]
  },
  {
   "cell_type": "markdown",
   "id": "aa83007e",
   "metadata": {},
   "source": [
    "```python\n",
    "example[0] = 2\n",
    "\n",
    "```"
   ]
  },
  {
   "cell_type": "markdown",
   "id": "89d36406",
   "metadata": {},
   "source": [
    "### 確認クイズ"
   ]
  },
  {
   "cell_type": "markdown",
   "id": "f3a5d74a",
   "metadata": {},
   "source": [
    "**Q1 生成モデルの説明として最も適切なものを選択せよ**  \n",
    "1. 生成モデルは、データの分布を学習し、新しいデータを生成できるモデルである。  \n",
    "2. 生成モデルは、入力データを特定のクラスに分類することを目的としたモデルである。  \n",
    "3. 生成モデルは、常にガウス分布を仮定し、その分布に基づいてデータを生成する。  \n",
    "4. 生成モデルは、決定論的な方法でデータを変換し、新しいデータを生成するため、確率的な要素は含まれない。  \n",
    "\n",
    "回答: $\\fbox{　(0)　}$  \n",
    "\n",
    "**Q2 データ分布（真の分布）と経験分布の説明として最も適切なものを選択せよ**  \n",
    "1. 経験分布はデータ点の数が増えると、誤差が蓄積されてデータ分布から遠ざかる。  \n",
    "2. 経験分布を手に入れることは出来ないので、真の分布による損失を最小化するようにモデルを学習することで高い汎化性を実現出来る。  \n",
    "3. 訓練データは経験分布から実際に生成されたものである。  \n",
    "4. 訓練データに対する最尤推定は、経験分布と生成モデルの間のKLダイバージェンス最小化と等価である。  \n",
    "\n",
    "回答: $\\fbox{　(1)　}$  \n",
    "\n",
    "**Q3 生成モデルの学習において考慮すべき点として最も適切なものを選択せよ**  \n",
    "1. 統計的距離の選択が学習結果に影響を与える。  \n",
    "2. データサイズが小さいほど、より良いモデルが得られる。  \n",
    "3. モデルの容量（パラメータ数など）は常に大きいほど良い。  \n",
    "4. 生成モデルの学習では、データの品質は重要ではない。  \n",
    "\n",
    "回答: $\\fbox{　(2)　}$  \n",
    "\n",
    "**Q4 生成モデルの容量（capacity）に関する説明として最も適切なものを選択せよ**  \n",
    "1. 生成モデルの容量は、モデルのアーキテクチャやパラメータ数によって決まり、より複雑なデータ分布を近似できる能力を示す。  \n",
    "2. 生成モデルの容量が大きいほど常に汎化性能が向上し、未知のデータに対しても良い性能を発揮する。  \n",
    "3. 生成モデルの容量が小さすぎると、データに対する適合が強くなり、過学習のリスクが高まる可能性がある。  \n",
    "4. 生成モデルの容量を増やすと、常に学習が安定し、過学習のリスクが低下する。  \n",
    "\n",
    "回答: $\\fbox{　(3)　}$  \n",
    "\n",
    "**Q5 生成モデルと識別モデルの関係性について最も「適切でない」ものを選択せよ**  \n",
    "1. 識別モデルと比較して、生成モデルの学習コストは高い。  \n",
    "2. 生成モデルを用いることで密度推定が可能だが、識別モデルでは困難。  \n",
    "3. どちらのモデルも与えられた観測変数xから事後確率p(y|x)を推論することが出来る。  \n",
    "4. 識別モデルから生成モデルを求めることが出来る。  \n",
    "\n",
    "回答: $\\fbox{　(4)　}$  \n",
    "\n",
    "**Q6 KLダイバージェンスが厳密な距離関数とは言えない理由として最も適切なものを選択せよ**  \n",
    "1. 対称性を満たさない為。  \n",
    "2. 非負性を満たさない為。  \n",
    "3. 異なる分布に対して値が0となる為。  \n",
    "4. 同一の分布に対して値が0にならない為。  \n",
    "\n",
    "回答: $\\fbox{　(5)　}$  \n",
    "\n",
    "**Q7 生成モデルの最尤推定に関する説明として最も適切なものを選択せよ**  \n",
    "1. 最尤推定はデータ分布を直接最適化する手法である。  \n",
    "2. 最尤推定は生成モデルと真のデータ分布の間のKLダイバージェンス最小化と等価である。  \n",
    "3. 最尤推定を用いると、常にデータ分布を正確に再現できる。  \n",
    "4. 最尤推定では、確率モデルのパラメータは事前分布によって決定される。  \n",
    "\n",
    "回答: $\\fbox{　(6)　}$  \n",
    "\n",
    "**Q8 コインの表が出る確率をベルヌーイ分布でモデリングし、最尤推定でパラメータを推定したところ、p=1「全て表が出る」という推論結果になった。このような状況を回避するために最も適切な方法を選択せよ**  \n",
    "1. コインの投げ方が悪いので投げ方を変える。  \n",
    "2. コインを投げる回数が少ないので増やす。  \n",
    "3. ベルヌーイ分布が良くないので、混合ベルヌーイ分布を用いる。  \n",
    "4. 必ず表が出るコインである、という事を事実として受け入れる。  \n",
    "\n",
    "回答: $\\fbox{　(7)　}$  \n",
    "\n",
    "**Q9 グラフィカルモデルの説明について最も適切なものを選択せよ**  \n",
    "1. 多次元データに対して、各データ点の各次元の間の相関関係をグラフで表したもの。  \n",
    "2. 各潜在変数間の因果関係をグラフで表したもの。  \n",
    "3. 各変数間の依存関係をグラフで表したもの。  \n",
    "4. 学習時における損失関数の推移をグラフで表したもの。  \n",
    "\n",
    "回答: $\\fbox{　(8)　}$  \n",
    "\n",
    "**Q10 潜在変数の役割として最も適切なものを選択せよ**  \n",
    "1. データに含まれる観測可能な特徴を明示的に表現する。  \n",
    "2. 観測データに含まれない要因をモデル化し、より柔軟な表現を可能にする。  \n",
    "3. 生成モデルのパラメータを減らすために用いられる。  \n",
    "4. 生成モデルの損失関数を定義する。  \n",
    "\n",
    "回答: $\\fbox{　(9)　}$  "
   ]
  },
  {
   "cell_type": "code",
   "execution_count": null,
   "id": "a423593d",
   "metadata": {},
   "outputs": [],
   "source": [
    "myanswer[0] = 1\n",
    "myanswer[1] = 4\n",
    "myanswer[2] = 1\n",
    "myanswer[3] = 1\n",
    "myanswer[4] = 4\n",
    "myanswer[5] = 1\n",
    "myanswer[6] = 2\n",
    "myanswer[7] = 2\n",
    "myanswer[8] = 3\n",
    "myanswer[9] = 2"
   ]
  },
  {
   "cell_type": "code",
   "execution_count": null,
   "id": "995aab75",
   "metadata": {},
   "outputs": [],
   "source": [
    "if not np.any(myanswer==0):\n",
    "    submission = pd.Series(myanswer, name='label')\n",
    "    submission.to_csv('submission_pred.csv', header=True, index_label='id')\n",
    "    print('submission_pred.csv has been created successfully!')\n",
    "else:\n",
    "    print('Error: please answer all of the questions')"
   ]
  }
 ],
 "metadata": {
  "kernelspec": {
   "display_name": "AI-engineering-final-kadai",
   "language": "python",
   "name": "python3"
  },
  "language_info": {
   "codemirror_mode": {
    "name": "ipython",
    "version": 3
   },
   "file_extension": ".py",
   "mimetype": "text/x-python",
   "name": "python",
   "nbconvert_exporter": "python",
   "pygments_lexer": "ipython3",
   "version": "3.13.2"
  }
 },
 "nbformat": 4,
 "nbformat_minor": 5
}
