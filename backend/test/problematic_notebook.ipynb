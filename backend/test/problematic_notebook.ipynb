{
 "cells": [
  {
   "cell_type": "code",
   "execution_count": null,
   "id": "a0d7538b",
   "metadata": {},
   "outputs": [],
   "source": [
    "print('Hello from test notebook!')"
   ]
  },
  {
   "cell_type": "code",
   "execution_count": null,
   "id": "3c7d64b5",
   "metadata": {},
   "outputs": [],
   "source": [
    "# This is a test\n",
    "x = 42\n",
    "print(f'The answer is {x}')"
   ]
  }
 ],
 "metadata": {
  "language_info": {
   "name": "python"
  }
 },
 "nbformat": 4,
 "nbformat_minor": 5
}
