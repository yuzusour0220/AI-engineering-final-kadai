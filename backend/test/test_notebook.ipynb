{
 "cells": [
  {
   "cell_type": "code",
   "execution_count": null,
   "id": "83bad7d5",
   "metadata": {},
   "outputs": [],
   "source": [
    "# テスト用のJupyter Notebook\n",
    "print(\"Hello from Jupyter Notebook!\")\n",
    "x = 5\n",
    "y = 10\n",
    "result = x + y\n",
    "print(f\"計算結果: {result}\")"
   ]
  },
  {
   "cell_type": "code",
   "execution_count": null,
   "id": "e2a01d45",
   "metadata": {},
   "outputs": [],
   "source": [
    "# 別のセル\n",
    "for i in range(3):\n",
    "    print(f\"ループ {i}\")"
   ]
  }
 ],
 "metadata": {
  "language_info": {
   "name": "python"
  }
 },
 "nbformat": 4,
 "nbformat_minor": 5
}
