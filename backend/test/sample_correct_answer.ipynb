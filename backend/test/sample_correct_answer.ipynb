{
 "cells": [
  {
   "cell_type": "markdown",
   "id": "54c2f8c5",
   "metadata": {},
   "source": [
    "# サンプル正解コード\n",
    "これは課題作成時のテスト用Jupyter Notebookです。"
   ]
  },
  {
   "cell_type": "code",
   "execution_count": null,
   "id": "f57769a8",
   "metadata": {},
   "outputs": [],
   "source": [
    "# Hello Worldを出力する\n",
    "def hello_world():\n",
    "    return \"Hello, World!\"\n",
    "\n",
    "print(hello_world())"
   ]
  },
  {
   "cell_type": "code",
   "execution_count": null,
   "id": "c3962527",
   "metadata": {},
   "outputs": [],
   "source": [
    "# 2つの数を足す関数\n",
    "def add_numbers(a, b):\n",
    "    return a + b\n",
    "\n",
    "result = add_numbers(5, 3)\n",
    "print(f\"5 + 3 = {result}\")"
   ]
  }
 ],
 "metadata": {
  "language_info": {
   "name": "python"
  }
 },
 "nbformat": 4,
 "nbformat_minor": 5
}
