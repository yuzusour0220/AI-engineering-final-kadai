{
 "cells": [
  {
   "cell_type": "code",
   "execution_count": 1,
   "id": "671413c4",
   "metadata": {},
   "outputs": [
    {
     "name": "stdout",
     "output_type": "stream",
     "text": [
      "Requirement already satisfied: pandas in /opt/anaconda3/envs/AI-engineering-final-kadai/lib/python3.13/site-packages (2.3.0)\n",
      "Requirement already satisfied: numpy>=1.26.0 in /opt/anaconda3/envs/AI-engineering-final-kadai/lib/python3.13/site-packages (from pandas) (2.2.6)\n",
      "Requirement already satisfied: python-dateutil>=2.8.2 in /opt/anaconda3/envs/AI-engineering-final-kadai/lib/python3.13/site-packages (from pandas) (2.9.0.post0)\n",
      "Requirement already satisfied: pytz>=2020.1 in /opt/anaconda3/envs/AI-engineering-final-kadai/lib/python3.13/site-packages (from pandas) (2025.2)\n",
      "Requirement already satisfied: tzdata>=2022.7 in /opt/anaconda3/envs/AI-engineering-final-kadai/lib/python3.13/site-packages (from pandas) (2025.2)\n",
      "Requirement already satisfied: six>=1.5 in /opt/anaconda3/envs/AI-engineering-final-kadai/lib/python3.13/site-packages (from python-dateutil>=2.8.2->pandas) (1.17.0)\n"
     ]
    }
   ],
   "source": [
    "# 1. 必要なライブラリをインストール\n",
    "!pip install pandas"
   ]
  },
  {
   "cell_type": "code",
   "execution_count": null,
   "id": "21c42ba9",
   "metadata": {},
   "outputs": [],
   "source": []
  },
  {
   "cell_type": "code",
   "execution_count": 2,
   "id": "79f99c82",
   "metadata": {},
   "outputs": [
    {
     "name": "stdout",
     "output_type": "stream",
     "text": [
      "東京都\n",
      "神奈川県\n",
      "大阪府\n",
      "愛知県\n",
      "埼玉県\n"
     ]
    }
   ],
   "source": [
    "import pandas as pd\n",
    "import io\n",
    "\n",
    "\n",
    "# 2. 都道府県別人口データ\n",
    "population_data = {\n",
    "    '都道府県': ['北海道', '青森県', '岩手県', '宮城県', '秋田県', '山形県', '福島県', '茨城県', '栃木県', '群馬県', \n",
    "               '埼玉県', '千葉県', '東京都', '神奈川県', '新潟県', '富山県', '石川県', '福井県', '山梨県', '長野県', \n",
    "               '岐阜県', '静岡県', '愛知県', '三重県', '滋賀県', '京都府', '大阪府', '兵庫県', '奈良県', '和歌山県', \n",
    "               '鳥取県', '島根県', '岡山県', '広島県', '山口県', '徳島県', '香川県', '愛媛県', '高知県', '福岡県', \n",
    "               '佐賀県', '長崎県', '熊本県', '大分県', '宮崎県', '鹿児島県', '沖縄県'],\n",
    "    '人口': [5113334, 1204622, 1184841, 2277470, 929424, 1045233, 1792622, 2836263, 1913340, 1918341, \n",
    "           7338583, 6278064, 14094034, 9243762, 2162460, 1012920, 1118320, 755291, 800366, 2017777, \n",
    "           1948480, 3591427, 7531557, 1746658, 1412036, 2551528, 8769351, 5396551, 1307994, 905763, \n",
    "           543169, 658607, 1863584, 2769483, 1311746, 707632, 936997, 1309831, 680608, 5134301, \n",
    "           800293, 1285223, 1715697, 1109000, 1052602, 1566416, 1471318]\n",
    "}\n",
    "\n",
    "# 3. pandasのDataFrameを作成\n",
    "df = pd.DataFrame(population_data)\n",
    "\n",
    "# 4. 人口で降順にソートし、上位5件を抽出\n",
    "top_5_df = df.sort_values(by='人口', ascending=False).head(5)\n",
    "\n",
    "# 5. 正解判定のために、上位5つの都道府県名を出力\n",
    "for prefecture in top_5_df['都道府県']:\n",
    "    print(prefecture)\n",
    "\n",
    "\n"
   ]
  },
  {
   "cell_type": "code",
   "execution_count": null,
   "id": "2fdf7d44",
   "metadata": {},
   "outputs": [],
   "source": []
  },
  {
   "cell_type": "code",
   "execution_count": null,
   "id": "0a220592",
   "metadata": {},
   "outputs": [],
   "source": []
  }
 ],
 "metadata": {
  "kernelspec": {
   "display_name": "AI-engineering-final-kadai",
   "language": "python",
   "name": "python3"
  },
  "language_info": {
   "codemirror_mode": {
    "name": "ipython",
    "version": 3
   },
   "file_extension": ".py",
   "mimetype": "text/x-python",
   "name": "python",
   "nbconvert_exporter": "python",
   "pygments_lexer": "ipython3",
   "version": "3.13.2"
  }
 },
 "nbformat": 4,
 "nbformat_minor": 5
}
